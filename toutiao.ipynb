{
 "cells": [
  {
   "cell_type": "markdown",
   "metadata": {},
   "source": [
    "# 自动化写文章"
   ]
  },
  {
   "cell_type": "markdown",
   "metadata": {},
   "source": [
    "## 爬取百度热点"
   ]
  },
  {
   "cell_type": "code",
   "execution_count": 29,
   "metadata": {},
   "outputs": [
    {
     "data": {
      "text/plain": [
       "['  中国保持全球增长引擎地位 ',\n",
       " '  台风将鲸鱼冲上岸？官方回应 ',\n",
       " '  淄博“过山车” ',\n",
       " '  共建向上向善精神家园 ',\n",
       " '  周杰伦演唱会抢票 ',\n",
       " '  宋雨琦因说了中国台湾被韩网热议 ',\n",
       " '  美芯片巨头力阻对华芯片出口限制 ',\n",
       " '  6楼男子点2楼外卖1小时未送到 ',\n",
       " '  男子百余亩香瓜遭村民昼夜组团偷走 ',\n",
       " '  男孩在环球影城室外垫纸上厕所 ',\n",
       " '  谢娜罕见谈快本停播 ',\n",
       " '  Ella 乘风总冠军 ',\n",
       " '  八角笼中的姐姐是王宝强的亲姐姐 ',\n",
       " '  29岁女生入职3年月薪涨200元裸辞 ',\n",
       " '  暑期档过半票房前三全是黑马 ',\n",
       " '  官方通报学校食堂吃出胶状异物 ',\n",
       " '  神秘圆柱体出现在澳大利亚海滩 ',\n",
       " '  南京警方通报街头路怒打斗 ',\n",
       " '  男子在女儿高考冲刺期带情人回家住 ',\n",
       " '  一副眼镜动辄上千 谁在收割近视眼 ',\n",
       " '  陈奕迅被歌迷喊话返场加唱 ',\n",
       " '  暴雨黄色预警：6省区有大到暴雨 ',\n",
       " '  男子喝醉后打车5公里支付509元 ',\n",
       " '  运动员吐槽奥运奖牌2年成废铁 ',\n",
       " '  媒体评教育局不正视学托乱象爆粗口 ',\n",
       " '  格力又将奥克斯告了 索赔9900万 ',\n",
       " '  人民文娱评蔡依林线上首唱会 ',\n",
       " '  进化掉食欲的“白人饭” ',\n",
       " '  教育局回应校服费4000多元:立即整改 ',\n",
       " '  群众反映学托泛滥 教育局要求撤下 ',\n",
       " '  台风天深圳一海滩出现大量海鲜 ']"
      ]
     },
     "execution_count": 29,
     "metadata": {},
     "output_type": "execute_result"
    }
   ],
   "source": [
    "import requests\n",
    "from bs4 import BeautifulSoup\n",
    "import time \n",
    "\n",
    "url = 'http://top.baidu.com/buzz?b=1&fr=topindex'\n",
    "headers = {\n",
    "'user-agent': 'Mozilla/5.0 (Windows NT 10.0; Win64; x64) AppleWebKit/537.36 (KHTML, like Gecko) Chrome/93.0.4577.82 Safari/537.36'\n",
    "}\n",
    "\n",
    "\n",
    "r = requests.get(url, headers=headers, timeout=30)\n",
    "r.encoding = r.apparent_encoding\n",
    "soup = BeautifulSoup(r.text,'html.parser')\n",
    "title_list=soup.find_all(attrs={'class':'c-single-text-ellipsis'})\n",
    "hot_list=soup.find_all(attrs={'class':'hot-index_1Bl1a'})\n",
    "titlelist = []\n",
    "for j in range(len(title_list)):\n",
    "    # print(str((j+1)) + '.' + str(title_list[j].get_text())+'('+'热度指数'+':'+str(hot_list[j].get_text())+')')\n",
    "    titlelist.append(str(title_list[j].get_text()))\n",
    "titlelist\n"
   ]
  },
  {
   "cell_type": "markdown",
   "metadata": {},
   "source": [
    "## 爬取微博热点"
   ]
  },
  {
   "cell_type": "code",
   "execution_count": 30,
   "metadata": {},
   "outputs": [],
   "source": [
    "# # -*- coding: utf-8 -*-\n",
    "\n",
    "# \"\"\"\n",
    "# @File    : 微博热搜榜.py\n",
    "# @Author  : fungis@163.com\n",
    "# @Time    : 2020/03/06 22:11\n",
    "# @notice  : 爬取微博热搜榜列表&热度&链接\n",
    "# \"\"\"\n",
    "# from selenium import webdriver\n",
    "# import time\n",
    "# from lxml import etree\n",
    "# import pandas as pd\n",
    "\n",
    "# #   \n",
    "# driver = webdriver.Edge()\n",
    "# driver.get('https://s.weibo.com/top/summary')\n",
    "\n",
    "\n",
    "# print('当前页面标题：'+driver.title)\n",
    "# print('当前页面地址：'+driver.current_url)\n",
    "# print('----------------分割线----------------')\n",
    "\n",
    "\n",
    "# time.sleep(5)\n",
    "# html = driver.page_source\n",
    "# html = etree.HTML(html)\n",
    "\n",
    "\n",
    "# dataList = html.xpath('//td[@class=\"td-02\"]/a/text()')\n",
    "\n",
    "# #获取对应的内容\n",
    "# # for dt in dataList:\n",
    "# #     print(dt)  # 打印对应的文本\n",
    "# #获取对应的链接\n",
    "\n",
    "# linklist = html.xpath('//td[@class=\"td-02\"]/a/@href')\n",
    "# hotList = html.xpath('//td[@class=\"td-02\"]/span/text()')"
   ]
  },
  {
   "cell_type": "markdown",
   "metadata": {},
   "source": [
    "## 百度搜索根据title搜索新闻链接"
   ]
  },
  {
   "cell_type": "code",
   "execution_count": 31,
   "metadata": {},
   "outputs": [
    {
     "name": "stdout",
     "output_type": "stream",
     "text": [
      "淄博“过山车”\n",
      "2小时前王春德的烧烤店在淄博八大局便民市场旁边。7月11日，他把“吉店转让”四个字贴在了店门上。开店2个多月，王春德似乎坐了一趟过山车，客流高峰期，店里一天的流水能上万，但现在他不得不...\n",
      "澎湃新闻\n",
      "淄博“过山车”\n",
      "2小时前开店2个多月,王春德似乎坐了一趟过山车,客流高峰期,店里一天的流水能上万,但现在他不得不接受门庭冷落的状态。 淄博的热度眼见着一点点退下来。滴滴司机肖凯感受很明显,他“五一”前开始干滴滴,一天轻松能挣400多元。现在很吃力,到晚...\n",
      "澎湃新闻\n",
      "淄博“过山车”:时隔数月淄博热情虽有,但热度不再如昨\n",
      "57分钟前【淄博“过山车”,五一后烧烤热度逐渐降温】“五一”期间,淄博的热度达到巅峰。烧烤店老板张凤来表示,游客成群结队地前来淄博吃烧烤。然而,由于他的烧烤店没有办下食品经营许可证并正在装修,错过了热潮。他每天都像火上烧的蚂蚁一样焦虑,...\n",
      "和讯网\n",
      "数说“淄博烧烤”|爆火时流量与顶流“花花”持平 6月仅新增15家...\n",
      "同样根据百度指数来看，从3月开始，“淄博烧烤”受到了“过山车”式的关注度，4月末到达顶峰后开始下滑，但记者也同时发现，“淄博烧烤”冷下来的热度也高于其没有火爆之前。一路爆红的...\n",
      "封面新闻\n",
      "水上过山车!神仙玩水地!在淄博潭溪山漂流一夏!\n",
      "前天11:01不必犹豫，带上家人或三五好友，趁着这个暑假，来潭溪山开启您的清凉之旅吧！惊险刺激的空中玻璃漂流，感受水上过山车，你准备好了吗？潭溪山空中玻璃漂流为山东省最长峡谷漂流，全长20...\n",
      "闪电新闻\n",
      "加勒比国家妇女干部考察团到访山东\n",
      "昨天21:26近日,加勒比国家妇女干部考察团应全国妇联和中联部邀请来华访问,7月13日-16日,考察团一行23人到访山东,深入济南、淄博部分单位、高校、企业、农村,围绕中国-加勒比发展交流与合作、妇女...\n",
      "澎湃新闻\n",
      "冲高26℃,雷雨+大风,本周淄博天气又开“过山车”!\n",
      "8级，13～20℃； 17日，多云，西风3～4级转西北风4～5级，10～20℃。 （淄博日报/淄博晚报/掌中淄博 记者张丽 报道） 雷雨大风天气 出行注意安全！ 原标题：《冲高26℃，雷雨+大风，本...\n",
      "澎湃新闻客户端\n",
      "“过山车”又来,淄博下周将迎来一次倒春寒\n",
      "并伴有4~6级偏北风 像淄博，今天气温达到高点18℃ 到下周五又降到5℃ 明天（周一）还有小雨 最低气温-1℃ 三月， 有春暖花开也有春寒料峭 一定要及时关注天气情况！ 原标题：《“过山车...\n",
      "澎湃新闻客户端\n",
      "及时止损?“手套茅”英科医疗再次终止扩产计划,还有多少投资价值?\n",
      "2022年12月20日这几年,英科医疗几乎经历了“过山车”式的发展。 在2020年之前,英科医疗这家位于山东淄博,主营一次性手套、口罩等个人防护产品的小企业并不出名。其股价平平淡淡,业绩不温不火,年利润不过一个多亿,市值不足30亿元。\n",
      "证券之星\n",
      "淄博气温如坐过山车,这件事千万要注意!\n",
      "毕竟淄博的天气总是像坐过山车 等最高温回升 接下来又是大落大反转！ 16日 最高温降到了1℃ 最低温降到了-7℃ 不过小编还是要提醒大家 冬天各类取暖设备开始用起来了 供暖的同时也带来...\n",
      "澎湃新闻客户端\n",
      "https://baijiahao.baidu.com/s?id=1771721030253914807&wfr=spider&for=pc\n",
      "https://www.thepaper.cn/newsDetail_forward_23885768\n",
      "http://stock.hexun.com/2023-07-18/209343099.html\n",
      "https://baijiahao.baidu.com/s?id=1770594296400572897&wfr=spider&for=pc\n",
      "https://baijiahao.baidu.com/s?id=1771544774577827041&wfr=spider&for=pc\n",
      "http://www.thepaper.cn/newsDetail_forward_23887165\n",
      "http://baijiahao.baidu.com/s?id=1664132849811550894&wfr=spider&for=pc\n",
      "http://baijiahao.baidu.com/s?id=1660689762910590172&wfr=spider&for=pc\n",
      "https://stock.stockstar.com/SS2022122000006205.shtml\n",
      "http://baijiahao.baidu.com/s?id=1688684116401271079&wfr=spider&for=pc\n"
     ]
    }
   ],
   "source": [
    "import undetected_chromedriver as uc\n",
    "import random\n",
    "from selenium.webdriver.support.ui import WebDriverWait\n",
    "from selenium import webdriver\n",
    "from selenium.webdriver.edge.service import Service\n",
    "from webdriver_manager.microsoft import EdgeChromiumDriverManager\n",
    "from selenium.webdriver.common.by import By\n",
    "from selenium.webdriver.common.keys import Keys\n",
    "from selenium.webdriver.edge.options import Options\n",
    "from selenium.webdriver.support.ui import WebDriverWait\n",
    "from selenium.webdriver.support import expected_conditions as EC\n",
    "import time\n",
    "keywords = titlelist[2] #新闻的关键词！\n",
    "driver = uc.Chrome()\n",
    "driver.maximize_window() #浏览器最大化\n",
    "url = \"http://wwww.baidu.com\"\n",
    "driver.get(url)\n",
    "\n",
    "# 定位搜索框并输入关键字\n",
    "search_box = WebDriverWait(driver, 10).until(EC.presence_of_element_located((By.CLASS_NAME, \"s_ipt\")))\n",
    "search_box.send_keys(keywords)\n",
    "\n",
    "# 模拟按下回车键\n",
    "search_box.send_keys(Keys.RETURN)\n",
    "\n",
    "time.sleep(2)\n",
    "driver.find_element(by=By.CLASS_NAME, value=\"s-tab-news\").click()\n",
    "\n",
    "# 等待搜索结果加载完成\n",
    "WebDriverWait(driver, 10).until(EC.presence_of_element_located((By.ID, 'content_left')))\n",
    "\n",
    "\n",
    "\n",
    "#打印搜索结果的标题\n",
    "results = driver.find_elements(By.ID, 'content_left')\n",
    "for result in results:\n",
    "    print(result.text)\n",
    "\n",
    "elements = driver.find_elements(By.CSS_SELECTOR, 'h3.news-title_1YtI1 a')\n",
    "links = [element.get_attribute('href') for element in elements]\n",
    "for link in links:\n",
    "    print(link)\n"
   ]
  },
  {
   "cell_type": "markdown",
   "metadata": {},
   "source": [
    "## 使用selenium操纵edge浏览器"
   ]
  },
  {
   "cell_type": "code",
   "execution_count": 32,
   "metadata": {},
   "outputs": [],
   "source": [
    "# from selenium import webdriver\n",
    "# from selenium.webdriver.edge.service import Service\n",
    "# from webdriver_manager.microsoft import EdgeChromiumDriverManager\n",
    "# from selenium.webdriver.common.by import By\n",
    "# from selenium.webdriver.common.keys import Keys\n",
    "# from selenium.webdriver.edge.options import Options\n",
    "# from selenium.webdriver.support.ui import WebDriverWait\n",
    "# from selenium.webdriver.support import expected_conditions as EC\n",
    "# import time\n",
    "\n",
    "# def askEdgechatgpt():\n",
    "#     # 设置Edge为无头模式\n",
    "#     edge_options = Options()\n",
    "#     edge_options.add_argument('user-agent=Mozilla/5.0 (Windows NT 10.0; Win64; x64) AppleWebKit/537.36 (KHTML, like Gecko) Chrome/114.0.0.0 Safari/537.36 Edg/114.0.1823.82')\n",
    "#     edge_options.add_argument(\"--disable-blink-features=AutomationControlled\")\n",
    "#     # 使用webdriver_manager自动管理Edge驱动程序的版本\n",
    "#     webdriver_service = Service(EdgeChromiumDriverManager().install())\n",
    "    \n",
    "#     driver = webdriver.Edge(service=webdriver_service, options=edge_options)\n",
    "#     url = \"https://chat.openai.com/\"\n",
    "#     driver.get(url)\n",
    "#     button1 = WebDriverWait(driver, 10).until(EC.presence_of_element_located((By.CSS_SELECTOR, '.btn.relative.btn-primary')))\n",
    "#     button1.click()\n",
    "#     time.sleep(5)\n",
    "#     # 使用XPath和特殊的属性来选择谷歌登录的按钮\n",
    "#     button2 = WebDriverWait(driver, 10).until(EC.presence_of_element_located((By.XPATH, '//button[@data-provider=\"google\"]')))\n",
    "#     # 点击按钮\n",
    "#     button2.click()\n",
    "\n",
    "#     box1 = WebDriverWait(driver, 10).until(EC.presence_of_element_located((By.ID, 'identifierId')))\n",
    "#     box1.send_keys(\"lionbiubiubiu@gmail.com\")\n",
    "#     box1.send_keys(Keys.RETURN)\n",
    "#     time.sleep(5)\n",
    "#     box2 = WebDriverWait(driver, 5).until(EC.presence_of_element_located((By.XPATH, '//input[@name=\"Passwd\"]')))\n",
    "#     box2.send_keys(\"200418Drh.\")\n",
    "#     box2.send_keys(Keys.RETURN)\n",
    "\n",
    "#     ####### Cloudfare bypass ########\n",
    "\n",
    "\n",
    "#     # print(\"reset driver\")\n",
    "#     # handle = driver.current_window_handle\n",
    "#     # driver.service.stop()\n",
    "#     # time.sleep(6)\n",
    "#     # driver = webdriver.Edge(service=webdriver_service, options=edge_options)\n",
    "#     # driver.switch_to.window(handle)\n",
    "\n",
    "    \n",
    "# askedgechatgpt()\n"
   ]
  },
  {
   "cell_type": "markdown",
   "metadata": {},
   "source": [
    "## 使用selenium操纵chorme浏览器打开chatgpt"
   ]
  },
  {
   "cell_type": "code",
   "execution_count": 33,
   "metadata": {},
   "outputs": [],
   "source": [
    "import undetected_chromedriver as uc\n",
    "import random\n",
    "from selenium.webdriver.support.ui import WebDriverWait\n",
    "from selenium import webdriver\n",
    "from selenium.webdriver.edge.service import Service\n",
    "from webdriver_manager.microsoft import EdgeChromiumDriverManager\n",
    "from selenium.webdriver.common.by import By\n",
    "from selenium.webdriver.common.keys import Keys\n",
    "from selenium.webdriver.edge.options import Options\n",
    "from selenium.webdriver.support.ui import WebDriverWait\n",
    "from selenium.webdriver.support import expected_conditions as EC\n",
    "import time\n",
    "driver = uc.Chrome()\n",
    "url = \"https://chat.openai.com/?model=gpt-4-plugins\"\n",
    "driver.maximize_window() #浏览器最大化\n",
    "# url = \"https://chat.openai.com/\"\n",
    "driver.get(url)                         # 打开openai登录界面\n",
    "\n",
    "# 点击LOGIN按钮\n",
    "button1 = WebDriverWait(driver, 10).until(EC.presence_of_element_located((By.CSS_SELECTOR, '.btn.relative.btn-primary')))\n",
    "time.sleep(random.randint(1, 3))        # 随机等待一到三秒\n",
    "button1.click()     \n",
    "\n",
    "time.sleep(random.randint(5, 10))\n",
    "\n",
    "# 选择谷歌登录的按钮\n",
    "button2 = WebDriverWait(driver, 10).until(EC.presence_of_element_located((By.XPATH, '//button[@data-provider=\"google\"]')))\n",
    "time.sleep(random.randint(1, 3))        #随机等待一到三秒\n",
    "button2.click()\n",
    "\n",
    "# 输入账号\n",
    "box1 = WebDriverWait(driver, 10).until(EC.presence_of_element_located((By.ID, 'identifierId')))\n",
    "time.sleep(random.randint(1, 3))        # 随机等待一到三秒\n",
    "box1.send_keys(\"lionbiubiubiu@gmail.com\")\n",
    "time.sleep(random.randint(1, 3))        # 随机等待一到三秒\n",
    "box1.send_keys(Keys.RETURN)\n",
    "\n",
    "time.sleep(random.randint(4, 6))\n",
    "\n",
    "# 输入密码\n",
    "box2 = WebDriverWait(driver, 5).until(EC.presence_of_element_located((By.XPATH, '//input[@name=\"Passwd\"]')))\n",
    "time.sleep(random.randint(1, 3))        # 随机等待一到三秒\n",
    "box2.send_keys(\"200418Drh.\")\n",
    "time.sleep(random.randint(1, 3))        # 随机等待一到三秒\n",
    "box2.send_keys(Keys.RETURN)\n",
    "\n",
    "# 保存当前窗口的句柄\n",
    "current_window_handle = driver.current_window_handle\n",
    "time.sleep(10) \n",
    "\n",
    "next = WebDriverWait(driver, 5).until(EC.presence_of_element_located((By.XPATH, '//button[div[contains(text(), \"Next\")]]')))\n",
    "next.click()\n",
    "time.sleep(random.randint(1,3)) \n",
    "next = WebDriverWait(driver, 5).until(EC.presence_of_element_located((By.XPATH, '//button[div[contains(text(), \"Next\")]]')))\n",
    "next.click()\n",
    "time.sleep(random.randint(1,3)) \n",
    "done = WebDriverWait(driver, 5).until(EC.presence_of_element_located((By.XPATH, '//button[div[contains(text(), \"Done\")]]')))\n",
    "done.click()\n",
    "    \n"
   ]
  },
  {
   "cell_type": "markdown",
   "metadata": {},
   "source": [
    "### GPT4联网需要选择插件"
   ]
  },
  {
   "cell_type": "code",
   "execution_count": 34,
   "metadata": {},
   "outputs": [],
   "source": [
    "#选择插件\n",
    "PlugChooseButton = WebDriverWait(driver, 5).until(EC.presence_of_element_located((By.XPATH, '//div[contains(@class,\"relative w-full md:w-1/2 lg:w-1/3 xl:w-1/4\")]//button[contains(@id,\"headlessui-listbox-button-\")]')))\n",
    "PlugChooseButton.click()\n",
    "\n",
    "svg_element = WebDriverWait(driver, 5).until(EC.presence_of_element_located((By.XPATH, '//li[contains(@id, \"headlessui-listbox-option-\") and .//span[text()=\"Link Reader\"]]')))\n",
    "svg_element.click()\n",
    "\n",
    "#选择插件\n",
    "PlugChooseButton = WebDriverWait(driver, 5).until(EC.presence_of_element_located((By.XPATH, '//div[contains(@class,\"relative w-full md:w-1/2 lg:w-1/3 xl:w-1/4\")]//button[contains(@id,\"headlessui-listbox-button-\")]')))\n",
    "PlugChooseButton.click()\n"
   ]
  },
  {
   "cell_type": "code",
   "execution_count": 35,
   "metadata": {},
   "outputs": [
    {
     "data": {
      "text/plain": [
       "'假设你是一名具有强大分析和逻辑推理能力的新闻评论员。请你根据关键词\"  淄博“过山车” \" 和以下链接中的信息，编写一篇吸引人的评论文章，对新闻的主张提供有见地的评论。你要利用自己的经验，深思熟虑地解释为什么某事很重要，用事实作为依据来支持你的主张，并讨论新闻中出现的任何问题的潜在解决方案。额外要求：总标题要引起冲突，吸引读者。正文最少1500字，需要分为三段式，包含副标题1,正文第一段，副标题2，正文第二段，副标题3，正文第三段。你的回答只包含文章。最终结果由json的格式给出：{\"title\":\"总标题\",\"Subtitle1\":\"副标题1\",\"text1\":\"正文第一段\",\"Subtitle2\":\"副标题2\",\"text2\":\"正文第二段\",\"Subtitle3\":\"副标题3\",\"text3\":\"正文第三段\"}链接1: \"https://baijiahao.baidu.com/s?id=1771721030253914807&wfr=spider&for=pc\" 链接2: \"https://www.thepaper.cn/newsDetail_forward_23885768\"  链接3: \"http://stock.hexun.com/2023-07-18/209343099.html\"  链接4: \"https://baijiahao.baidu.com/s?id=1770594296400572897&wfr=spider&for=pc\"   链接5: \"https://baijiahao.baidu.com/s?id=1771544774577827041&wfr=spider&for=pc\" '"
      ]
     },
     "execution_count": 35,
     "metadata": {},
     "output_type": "execute_result"
    }
   ],
   "source": [
    "# 定义带变量的多行字符串\n",
    "prompt = '''假设你是一名具有强大分析和逻辑推理能力的新闻评论员。请你根据关键词\"{keywords}\" 和以下链接中的信息，编写一篇吸引人的评论文章，对新闻的主张提供有见地的评论。你要利用自己的经验，深思熟虑地解释为什么某事很重要，用事实作为依据来支持你的主张，并讨论新闻中出现的任何问题的潜在解决方案。额外要求：总标题要引起冲突，吸引读者。正文最少1500字，需要分为三段式，包含副标题1,正文第一段，副标题2，正文第二段，副标题3，正文第三段。你的回答只包含文章。最终结果由json的格式给出：{{\"title\":\"总标题\",\"Subtitle1\":\"副标题1\",\"text1\":\"正文第一段\",\"Subtitle2\":\"副标题2\",\"text2\":\"正文第二段\",\"Subtitle3\":\"副标题3\",\"text3\":\"正文第三段\"}}链接1: \"{links[0]}\" 链接2: \"{links[1]}\"  链接3: \"{links[2]}\"  链接4: \"{links[3]}\"   链接5: \"{links[4]}\" '''.format(keywords=keywords, links=links)\n",
    "prompt"
   ]
  },
  {
   "cell_type": "code",
   "execution_count": 36,
   "metadata": {},
   "outputs": [
    {
     "ename": "JSONDecodeError",
     "evalue": "Expecting value: line 1 column 1 (char 0)",
     "output_type": "error",
     "traceback": [
      "\u001b[1;31m---------------------------------------------------------------------------\u001b[0m",
      "\u001b[1;31mJSONDecodeError\u001b[0m                           Traceback (most recent call last)",
      "Cell \u001b[1;32mIn[36], line 21\u001b[0m\n\u001b[0;32m     16\u001b[0m json_element \u001b[39m=\u001b[39m WebDriverWait(driver, \u001b[39m1000\u001b[39m)\u001b[39m.\u001b[39muntil(\n\u001b[0;32m     17\u001b[0m     EC\u001b[39m.\u001b[39mpresence_of_element_located((By\u001b[39m.\u001b[39mCSS_SELECTOR, \u001b[39m\"\u001b[39m\u001b[39mcode\u001b[39m\u001b[39m\"\u001b[39m))\n\u001b[0;32m     18\u001b[0m \n\u001b[0;32m     19\u001b[0m )\n\u001b[0;32m     20\u001b[0m json_str \u001b[39m=\u001b[39m json_element\u001b[39m.\u001b[39mtext  \n\u001b[1;32m---> 21\u001b[0m data \u001b[39m=\u001b[39m json\u001b[39m.\u001b[39;49mloads(json_str) \u001b[39m# 文章\u001b[39;00m\n\u001b[0;32m     22\u001b[0m data\n",
      "File \u001b[1;32mc:\\Users\\10846\\.conda\\envs\\toutiao\\lib\\json\\__init__.py:346\u001b[0m, in \u001b[0;36mloads\u001b[1;34m(s, cls, object_hook, parse_float, parse_int, parse_constant, object_pairs_hook, **kw)\u001b[0m\n\u001b[0;32m    341\u001b[0m     s \u001b[39m=\u001b[39m s\u001b[39m.\u001b[39mdecode(detect_encoding(s), \u001b[39m'\u001b[39m\u001b[39msurrogatepass\u001b[39m\u001b[39m'\u001b[39m)\n\u001b[0;32m    343\u001b[0m \u001b[39mif\u001b[39;00m (\u001b[39mcls\u001b[39m \u001b[39mis\u001b[39;00m \u001b[39mNone\u001b[39;00m \u001b[39mand\u001b[39;00m object_hook \u001b[39mis\u001b[39;00m \u001b[39mNone\u001b[39;00m \u001b[39mand\u001b[39;00m\n\u001b[0;32m    344\u001b[0m         parse_int \u001b[39mis\u001b[39;00m \u001b[39mNone\u001b[39;00m \u001b[39mand\u001b[39;00m parse_float \u001b[39mis\u001b[39;00m \u001b[39mNone\u001b[39;00m \u001b[39mand\u001b[39;00m\n\u001b[0;32m    345\u001b[0m         parse_constant \u001b[39mis\u001b[39;00m \u001b[39mNone\u001b[39;00m \u001b[39mand\u001b[39;00m object_pairs_hook \u001b[39mis\u001b[39;00m \u001b[39mNone\u001b[39;00m \u001b[39mand\u001b[39;00m \u001b[39mnot\u001b[39;00m kw):\n\u001b[1;32m--> 346\u001b[0m     \u001b[39mreturn\u001b[39;00m _default_decoder\u001b[39m.\u001b[39;49mdecode(s)\n\u001b[0;32m    347\u001b[0m \u001b[39mif\u001b[39;00m \u001b[39mcls\u001b[39m \u001b[39mis\u001b[39;00m \u001b[39mNone\u001b[39;00m:\n\u001b[0;32m    348\u001b[0m     \u001b[39mcls\u001b[39m \u001b[39m=\u001b[39m JSONDecoder\n",
      "File \u001b[1;32mc:\\Users\\10846\\.conda\\envs\\toutiao\\lib\\json\\decoder.py:337\u001b[0m, in \u001b[0;36mJSONDecoder.decode\u001b[1;34m(self, s, _w)\u001b[0m\n\u001b[0;32m    332\u001b[0m \u001b[39mdef\u001b[39;00m \u001b[39mdecode\u001b[39m(\u001b[39mself\u001b[39m, s, _w\u001b[39m=\u001b[39mWHITESPACE\u001b[39m.\u001b[39mmatch):\n\u001b[0;32m    333\u001b[0m \u001b[39m    \u001b[39m\u001b[39m\"\"\"Return the Python representation of ``s`` (a ``str`` instance\u001b[39;00m\n\u001b[0;32m    334\u001b[0m \u001b[39m    containing a JSON document).\u001b[39;00m\n\u001b[0;32m    335\u001b[0m \n\u001b[0;32m    336\u001b[0m \u001b[39m    \"\"\"\u001b[39;00m\n\u001b[1;32m--> 337\u001b[0m     obj, end \u001b[39m=\u001b[39m \u001b[39mself\u001b[39;49m\u001b[39m.\u001b[39;49mraw_decode(s, idx\u001b[39m=\u001b[39;49m_w(s, \u001b[39m0\u001b[39;49m)\u001b[39m.\u001b[39;49mend())\n\u001b[0;32m    338\u001b[0m     end \u001b[39m=\u001b[39m _w(s, end)\u001b[39m.\u001b[39mend()\n\u001b[0;32m    339\u001b[0m     \u001b[39mif\u001b[39;00m end \u001b[39m!=\u001b[39m \u001b[39mlen\u001b[39m(s):\n",
      "File \u001b[1;32mc:\\Users\\10846\\.conda\\envs\\toutiao\\lib\\json\\decoder.py:355\u001b[0m, in \u001b[0;36mJSONDecoder.raw_decode\u001b[1;34m(self, s, idx)\u001b[0m\n\u001b[0;32m    353\u001b[0m     obj, end \u001b[39m=\u001b[39m \u001b[39mself\u001b[39m\u001b[39m.\u001b[39mscan_once(s, idx)\n\u001b[0;32m    354\u001b[0m \u001b[39mexcept\u001b[39;00m \u001b[39mStopIteration\u001b[39;00m \u001b[39mas\u001b[39;00m err:\n\u001b[1;32m--> 355\u001b[0m     \u001b[39mraise\u001b[39;00m JSONDecodeError(\u001b[39m\"\u001b[39m\u001b[39mExpecting value\u001b[39m\u001b[39m\"\u001b[39m, s, err\u001b[39m.\u001b[39mvalue) \u001b[39mfrom\u001b[39;00m \u001b[39mNone\u001b[39;00m\n\u001b[0;32m    356\u001b[0m \u001b[39mreturn\u001b[39;00m obj, end\n",
      "\u001b[1;31mJSONDecodeError\u001b[0m: Expecting value: line 1 column 1 (char 0)"
     ]
    }
   ],
   "source": [
    "import json\n",
    "\n",
    "#选择输入框\n",
    "textarea = WebDriverWait(driver, 5).until(EC.presence_of_element_located((By.ID, 'prompt-textarea')))\n",
    "textarea.send_keys(prompt)\n",
    "time.sleep(8)\n",
    "# #定位输入按钮\n",
    "# button = WebDriverWait(driver, 5).until(EC.presence_of_element_located((By.XPATH, '//button[contains(@style, \"background-color: rgb(25, 195, 125)\")]')))\n",
    "#定位输入按钮\n",
    "button = WebDriverWait(driver, 5).until(EC.presence_of_element_located((By.CSS_SELECTOR, '#__next > div.overflow-hidden.w-full.h-full.relative.flex.z-0 > div.relative.flex.h-full.max-w-full.flex-1.overflow-hidden > div > main > div.absolute.bottom-0.left-0.w-full.border-t.md\\:border-t-0.dark\\:border-white\\/20.md\\:border-transparent.md\\:dark\\:border-transparent.md\\:bg-vert-light-gradient.bg-white.dark\\:bg-gray-800.md\\:\\!bg-transparent.dark\\:md\\:bg-vert-dark-gradient.pt-2.md\\:pl-2.md\\:w-\\[calc\\(100\\%-\\.5rem\\)\\] > form > div > div > button  ')))\n",
    "driver.execute_script(\"arguments[0].click()\",button)\n",
    "# button.click()  # 发送！\n",
    "time.sleep(20)\n",
    "\n",
    "# 等待元素出现并选择所有匹配的元素\n",
    "json_element = WebDriverWait(driver, 1000).until(\n",
    "    EC.presence_of_element_located((By.CSS_SELECTOR, \"code\"))\n",
    "\n",
    ")\n",
    "json_str = json_element.text  \n",
    "data = json.loads(json_str) # 文章\n",
    "data"
   ]
  },
  {
   "cell_type": "code",
   "execution_count": 37,
   "metadata": {},
   "outputs": [
    {
     "data": {
      "text/plain": [
       "{'title': '淄博“过山车”现象：烧烤热潮与旅游业的起伏',\n",
       " 'Subtitle1': '烧烤热潮的兴起与衰退',\n",
       " 'text1': '淄博烧烤的热潮始于今年3月，一位大学生在社交平台上分享了一篇关于淄博烧烤的文章，引发了一系列的连锁反应，让“进淄赶烤”成为一段佳话。然而，随着时间的推移，淄博烧烤的热度逐渐冷却下来。这种现象反映了社会热点的瞬息万变，一方面，淄博烧烤的热度提升了当地的经济活动，另一方面，也暴露出了商业模式的同质化问题。当热度消退，许多跟风的商家可能会面临生存压力，这也是为什么会出现大量烧烤店铺转让的现象。',\n",
       " 'Subtitle2': '旅游业的起伏',\n",
       " 'text2': '与烧烤热潮相似，淄博的旅游业也经历了一次“过山车”式的起伏。潭溪山的空中玻璃漂流作为山东省最长峡谷漂流，全长2000余米，全程7-8分钟，旋转弧度5199度，高差160米，相当于50多层楼那么高，给游客带来了极致的刺激体验。然而，这种刺激的体验并不能持久地吸引游客，旅游业的发展需要更多的创新和差异化的服务。',\n",
       " 'Subtitle3': '前瞻与建议',\n",
       " 'text3': '淄博“过山车”现象给我们带来的启示是，无论是烧烤业还是旅游业，都需要持续的创新和提升服务质量，才能在激烈的市场竞争中立足。对于烧烤业，商家可以通过提升食材质量，创新烧烤方式，提供差异化的服务，来吸引和留住消费者。对于旅游业，除了提供刺激的游乐设施，还可以开发更多的旅游项目，如文化旅游、生态旅游等，提供更丰富的旅游体验。同时，政府也应该提供更多的支持和政策引导，促进这两个行业的健康发展。'}"
      ]
     },
     "execution_count": 37,
     "metadata": {},
     "output_type": "execute_result"
    }
   ],
   "source": [
    "# 等待元素出现并选择所有匹配的元素\n",
    "json_element = WebDriverWait(driver, 1000).until(\n",
    "    EC.presence_of_element_located((By.CSS_SELECTOR, \"code\"))\n",
    "\n",
    ")\n",
    "json_str = json_element.text  \n",
    "data = json.loads(json_str) # 文章\n",
    "data"
   ]
  },
  {
   "cell_type": "markdown",
   "metadata": {},
   "source": [
    "## 手动登录今日头条，获取cookies，第一次之后可跳过"
   ]
  },
  {
   "cell_type": "code",
   "execution_count": null,
   "metadata": {},
   "outputs": [],
   "source": [
    "# import undetected_chromedriver as uc\n",
    "# import random\n",
    "# from selenium.webdriver.support.ui import WebDriverWait\n",
    "# from selenium import webdriver\n",
    "# from selenium.webdriver.edge.service import Service\n",
    "# from webdriver_manager.microsoft import EdgeChromiumDriverManager\n",
    "# from selenium.webdriver.common.by import By\n",
    "# from selenium.webdriver.common.keys import Keys\n",
    "# from selenium.webdriver.edge.options import Options\n",
    "# from selenium.webdriver.support.ui import WebDriverWait\n",
    "# from selenium.webdriver.support import expected_conditions as EC\n",
    "# import time\n",
    "# import json\n",
    "\n",
    "# toutiao_driver = webdriver.Chrome()\n",
    "# url = \"https://www.toutiao.com/\"\n",
    "# toutiao_driver.get(url)                         # 打开头条登录界面\n",
    "\n",
    "# ###手动完成登录后，随便在控制台输入内容，就保存下来了\n",
    "# input(\"等待登录成功，登录成功后随便输入内容。\")\n",
    "# dictCookies = toutiao_driver.get_cookies()\n",
    "# jsonCookies = json.dumps(dictCookies)\n",
    "\n",
    "# with open('cookies.txt', 'w') as f:\n",
    "#     f.write(jsonCookies)\n",
    "# print('cookies保存成功！')"
   ]
  },
  {
   "cell_type": "markdown",
   "metadata": {},
   "source": [
    "## 使用获取的cookies自动登录今日头条写文章页面"
   ]
  },
  {
   "cell_type": "code",
   "execution_count": 38,
   "metadata": {},
   "outputs": [],
   "source": [
    "import undetected_chromedriver as uc\n",
    "import random\n",
    "from selenium.webdriver.support.ui import WebDriverWait\n",
    "from selenium import webdriver\n",
    "from selenium.webdriver.edge.service import Service\n",
    "from webdriver_manager.microsoft import EdgeChromiumDriverManager\n",
    "from selenium.webdriver.common.by import By\n",
    "from selenium.webdriver.common.keys import Keys\n",
    "from selenium.webdriver.edge.options import Options\n",
    "from selenium.webdriver.support.ui import WebDriverWait\n",
    "from selenium.webdriver.support import expected_conditions as EC\n",
    "import time\n",
    "import json\n",
    "\n",
    "\n",
    "toutiao_driver = webdriver.Chrome()\n",
    "toutiao_driver.maximize_window() #浏览器最大化\n",
    "# url = \"https://www.toutiao.com/\"\n",
    "url = \"https://mp.toutiao.com/profile_v4/graphic/publish?from=toutiao_pc\"\n",
    "toutiao_driver.get(url) \n",
    "with open('cookies.txt', 'r', encoding='utf8') as f:\n",
    "    listCookies = json.loads(f.read())\n",
    "for cookie in listCookies:\n",
    "    cookie_dict = {\n",
    "        ### 这个domain看cookies第一个字段就知道了，需要找到并填入\n",
    "        'domain': \".toutiao.com\",\n",
    "        'name': cookie.get('name'),\n",
    "        'value': cookie.get('value'),\n",
    "        \"expires\": '',\n",
    "        'path': '/',\n",
    "        'httpOnly': False,\n",
    "        'HostOnly': False,\n",
    "        'Secure': False\n",
    "        }\n",
    "    toutiao_driver.add_cookie(cookie_dict)\n",
    "    # toutiao_driver.refresh()  # 刷新网页,cookies才成功\n",
    "toutiao_driver.refresh()  # 刷新网页,cookies才成功\n",
    "toutiao_driver.get(url) "
   ]
  },
  {
   "cell_type": "markdown",
   "metadata": {},
   "source": [
    "## 写文章"
   ]
  },
  {
   "cell_type": "markdown",
   "metadata": {},
   "source": [
    "### 标题"
   ]
  },
  {
   "cell_type": "code",
   "execution_count": 39,
   "metadata": {},
   "outputs": [],
   "source": [
    "title = WebDriverWait(toutiao_driver, 5).until(\n",
    "    EC.element_to_be_clickable((By.XPATH, '//textarea[@placeholder=\"请输入文章标题（2～30个字）\"]'))\n",
    ")\n",
    "title.send_keys(data[\"title\"])\n",
    "title.send_keys(Keys.RETURN)\n"
   ]
  },
  {
   "cell_type": "markdown",
   "metadata": {},
   "source": [
    "### 正文"
   ]
  },
  {
   "cell_type": "code",
   "execution_count": 40,
   "metadata": {},
   "outputs": [],
   "source": [
    "from selenium.webdriver import ActionChains\n",
    "\n",
    "\n",
    "text = WebDriverWait(toutiao_driver, 5).until(\n",
    "    EC.element_to_be_clickable((By.CSS_SELECTOR, '.ProseMirror'))\n",
    ")\n",
    "text.send_keys(Keys.CONTROL + 'b')  # 加粗\n",
    "\n",
    "# 副标题一\n",
    "text.send_keys(Keys.CONTROL + Keys.ALT + '1')  #选择标题样式\n",
    "\n",
    "# #鼠标悬停\n",
    "# above = WebDriverWait(toutiao_driver, 5).until(\n",
    "#     EC.element_to_be_clickable((By.XPATH, '//*[@id=\"root\"]/div/div/div[1]/div[4]/div/div[2]'))\n",
    "# )\n",
    "# ActionChains(toutiao_driver).move_to_element(above).perform()\n",
    "# time.sleep(1)\n",
    "# plugin_helper = WebDriverWait(toutiao_driver, 5).until(\n",
    "#     EC.presence_of_all_elements_located((By.CSS_SELECTOR, 'div.helper-content > label.byte-radio'))\n",
    "# )\n",
    "# time.sleep(1)\n",
    "# plugin_helper[-1].click()\n",
    "\n",
    "#正文标题1\n",
    "text.send_keys(data[\"Subtitle1\"])\n",
    "text.send_keys(Keys.RETURN)\n",
    "\n",
    "#正文第一段\n",
    "text.send_keys(data[\"text1\"])\n",
    "text.send_keys(Keys.RETURN)\n",
    "\n",
    "#正文标题2\n",
    "text.send_keys(Keys.CONTROL + Keys.ALT + '1')  #选择标题样式\n",
    "text.send_keys(Keys.CONTROL + 'b')  # 加粗\n",
    "text.send_keys(data[\"Subtitle2\"])\n",
    "text.send_keys(Keys.RETURN)\n",
    "\n",
    "#正文第二段\n",
    "text.send_keys(data[\"text2\"])\n",
    "text.send_keys(Keys.RETURN)\n",
    "\n",
    "#正文标题3\n",
    "text.send_keys(Keys.CONTROL + Keys.ALT + '1')  #选择标题样式\n",
    "text.send_keys(Keys.CONTROL + 'b')  # 加粗\n",
    "text.send_keys(data[\"Subtitle3\"])\n",
    "text.send_keys(Keys.RETURN)\n",
    "\n",
    "#正文第三段\n",
    "text.send_keys(data[\"text3\"])\n",
    "text.send_keys(Keys.RETURN)\n"
   ]
  },
  {
   "cell_type": "code",
   "execution_count": 41,
   "metadata": {},
   "outputs": [],
   "source": [
    "toutiao_driver.execute_script('window.scrollBy(0,500)')\n",
    "time.sleep(2)\n",
    "#设置单标题\n",
    "one_title = WebDriverWait(toutiao_driver, 5).until(\n",
    "    EC.element_to_be_clickable((By.CSS_SELECTOR, '#root > div > div > div.form-wrap > div.form-container > div.pgc-edit-cell.edit-cell.multi-title-cell.required > div.edit-input > div.byte-radio-group.byte-radio-size-default.byte-radio-mode-outline > label:nth-child(1) > span > div'))\n",
    ")\n",
    "one_title.click()"
   ]
  },
  {
   "cell_type": "markdown",
   "metadata": {},
   "source": [
    "### 滑动到底部，即将发布"
   ]
  },
  {
   "cell_type": "code",
   "execution_count": 42,
   "metadata": {},
   "outputs": [],
   "source": [
    "toutiao_driver.execute_script('window.scrollTo(0,document.body.scrollHeight)')\n",
    "time.sleep(5)"
   ]
  },
  {
   "cell_type": "markdown",
   "metadata": {},
   "source": [
    "### 发布前设置封面"
   ]
  },
  {
   "cell_type": "code",
   "execution_count": 43,
   "metadata": {},
   "outputs": [],
   "source": [
    "# # 选择单图发布\n",
    "# pic = WebDriverWait(toutiao_driver, 2).until(\n",
    "#     EC.presence_of_element_located((By.CSS_SELECTOR, 'input[type=\"radio\"][value=\"2\"]'))\n",
    "# )\n",
    "# label_element = pic.find_element(By.XPATH,'..')\n",
    "# time.sleep(1)\n",
    "# label_element.click()\n",
    "\n",
    "# 点击上传图片\n",
    "pic_choose = WebDriverWait(toutiao_driver, 5).until(\n",
    "    EC.element_to_be_clickable((By.CLASS_NAME, 'article-cover-images-wrap'))\n",
    ")\n",
    "pic_choose.click()\n",
    "time.sleep(2)\n",
    "# 选择免费图片\n",
    "free_pic = WebDriverWait(toutiao_driver, 5).until(\n",
    "    EC.element_to_be_clickable((By.XPATH, '//div[contains(text(), \"免费正版图片\")]'))\n",
    ")\n",
    "free_pic.click()\n",
    "\n",
    "\n",
    "pic_choose_text = WebDriverWait(toutiao_driver, 5).until(\n",
    "    EC.presence_of_element_located((By.CSS_SELECTOR, 'div.inp-search > input'))  \n",
    ")\n",
    "pic_choose_text.send_keys(\"风景\")\n",
    "pic_choose_text.send_keys(Keys.RETURN)\n",
    "\n",
    "\n",
    "pic = WebDriverWait(toutiao_driver, 5).until(\n",
    "    EC.presence_of_all_elements_located((By.CSS_SELECTOR, 'ul.list > li:nth-child(1)'))\n",
    ")\n",
    "pic[0].click()\n",
    "yes = WebDriverWait(toutiao_driver, 5).until(\n",
    "    EC.element_to_be_clickable((By.CSS_SELECTOR, 'button.byte-btn.byte-btn-primary.byte-btn-size-default.byte-btn-shape-square.btn'))\n",
    ")\n",
    "yes.click()\n",
    "time.sleep(2)\n"
   ]
  },
  {
   "cell_type": "code",
   "execution_count": 44,
   "metadata": {},
   "outputs": [],
   "source": [
    "# 选择不投放广告\n",
    "no_ad = WebDriverWait(toutiao_driver, 5).until(\n",
    "    EC.element_to_be_clickable((By.XPATH, '//*[@id=\"root\"]/div/div/div[2]/div[2]/div[3]/div[2]/div/label/span/div'))\n",
    ")\n",
    "time.sleep(2)\n",
    "no_ad.click()"
   ]
  },
  {
   "cell_type": "code",
   "execution_count": 45,
   "metadata": {},
   "outputs": [],
   "source": [
    "# 选择原创\n",
    "yuanchuang = WebDriverWait(toutiao_driver, 5).until(\n",
    "    EC.element_to_be_clickable((By.XPATH, '//*[@id=\"originalBtn\"]/span/label/span/div'))\n",
    ")\n",
    "yuanchuang.click()"
   ]
  },
  {
   "cell_type": "code",
   "execution_count": 46,
   "metadata": {},
   "outputs": [],
   "source": [
    "# 发布\n",
    "fabu = WebDriverWait(toutiao_driver, 5).until(\n",
    "    EC.element_to_be_clickable((By.XPATH, '//*[@id=\"root\"]/div/div/div[3]/div/button[3]'))\n",
    ")\n",
    "fabu.click()\n"
   ]
  },
  {
   "cell_type": "code",
   "execution_count": 47,
   "metadata": {},
   "outputs": [],
   "source": [
    "time.sleep(2)\n",
    "#确认发布\n",
    "fabu2 = WebDriverWait(toutiao_driver, 5).until(\n",
    "    EC.element_to_be_clickable((By.XPATH, '//*[@id=\"root\"]/div/div/div[3]/div/button[2]'))\n",
    ")\n",
    "fabu2.click()\n",
    "\n",
    "\n"
   ]
  }
 ],
 "metadata": {
  "kernelspec": {
   "display_name": "Python 3",
   "language": "python",
   "name": "python3"
  },
  "language_info": {
   "codemirror_mode": {
    "name": "ipython",
    "version": 3
   },
   "file_extension": ".py",
   "mimetype": "text/x-python",
   "name": "python",
   "nbconvert_exporter": "python",
   "pygments_lexer": "ipython3",
   "version": "3.10.12"
  },
  "orig_nbformat": 4
 },
 "nbformat": 4,
 "nbformat_minor": 2
}
